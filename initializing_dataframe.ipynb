{
 "cells": [
  {
   "cell_type": "code",
   "execution_count": 1,
   "id": "6d96f830",
   "metadata": {},
   "outputs": [],
   "source": [
    "import pandas as pd"
   ]
  },
  {
   "cell_type": "code",
   "execution_count": 4,
   "id": "30bf12e0",
   "metadata": {},
   "outputs": [],
   "source": [
    "columns=['date']\n",
    "for i in range(7):\n",
    "    columns.append('rain_probability_in_{}_days'.format(i))\n",
    "columns.append('did_it_rain')"
   ]
  },
  {
   "cell_type": "code",
   "execution_count": 5,
   "id": "fdfe14bf",
   "metadata": {},
   "outputs": [],
   "source": [
    "df=pd.DataFrame(columns=dict.fromkeys(columns))\n",
    "\n",
    "df.to_csv('tables/rain_probability.csv',index=False)"
   ]
  },
  {
   "cell_type": "code",
   "execution_count": null,
   "id": "c758c6b9",
   "metadata": {},
   "outputs": [],
   "source": []
  }
 ],
 "metadata": {
  "kernelspec": {
   "display_name": "Python 3 (ipykernel)",
   "language": "python",
   "name": "python3"
  },
  "language_info": {
   "codemirror_mode": {
    "name": "ipython",
    "version": 3
   },
   "file_extension": ".py",
   "mimetype": "text/x-python",
   "name": "python",
   "nbconvert_exporter": "python",
   "pygments_lexer": "ipython3",
   "version": "3.9.13"
  }
 },
 "nbformat": 4,
 "nbformat_minor": 5
}
