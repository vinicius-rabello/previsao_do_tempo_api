{
 "cells": [
  {
   "cell_type": "code",
   "execution_count": 1,
   "id": "667bcd26",
   "metadata": {},
   "outputs": [],
   "source": [
    "import requests\n",
    "import json\n",
    "\n",
    "import pandas as pd\n",
    "\n",
    "from datetime import datetime,timedelta"
   ]
  },
  {
   "cell_type": "code",
   "execution_count": 2,
   "id": "8cb8a934",
   "metadata": {},
   "outputs": [],
   "source": [
    "token='c9439088efedf3d47e3efcfa4efe14d1'"
   ]
  },
  {
   "cell_type": "code",
   "execution_count": 3,
   "id": "582cf00a",
   "metadata": {},
   "outputs": [
    {
     "data": {
      "text/plain": [
       "{'max_allowed': 1, 'locales': [73779]}"
      ]
     },
     "execution_count": 3,
     "metadata": {},
     "output_type": "execute_result"
    }
   ],
   "source": [
    "url='http://apiadvisor.climatempo.com.br/api-manager/user-token/{}/locales'.format(token)\n",
    "response=requests.get(url)\n",
    "response.json() # checking which cities are registered in our app"
   ]
  },
  {
   "cell_type": "code",
   "execution_count": 4,
   "id": "204b7fbe",
   "metadata": {},
   "outputs": [],
   "source": [
    "city='Rio de Janeiro'\n",
    "state='RJ'\n",
    "country='BR' #dados da cidade que queremos registrar na nossa API"
   ]
  },
  {
   "cell_type": "code",
   "execution_count": 5,
   "id": "e72ab1fe",
   "metadata": {},
   "outputs": [
    {
     "name": "stdout",
     "output_type": "stream",
     "text": [
      "{'id': 73779, 'name': 'Rio de Janeiro - centro', 'state': 'RJ', 'country': 'BR  '}\n"
     ]
    }
   ],
   "source": [
    "url='http://apiadvisor.climatempo.com.br/api/v1/locale/city?name={}&state={}&country={}&token={}'.format(city,state,country,token)\n",
    "response=requests.get(url)\n",
    "data=response.json()\n",
    "\n",
    "print(data[1])\n",
    "city_id=data[1]['id'] #pesquisando o id da cidade desejada"
   ]
  },
  {
   "cell_type": "code",
   "execution_count": 6,
   "id": "66de4dfb",
   "metadata": {},
   "outputs": [
    {
     "data": {
      "text/plain": [
       "{'status': 'success', 'locales': [73779]}"
      ]
     },
     "execution_count": 6,
     "metadata": {},
     "output_type": "execute_result"
    }
   ],
   "source": [
    "url='http://apiadvisor.climatempo.com.br/api-manager/user-token/{}/locales'.format(token)\n",
    "\n",
    "payload='localeId[]={}'.format(city_id)\n",
    "headers={'Content-Type':'application/x-www-form-urlencoded'}\n",
    "\n",
    "response=requests.put(url,headers=headers,data=payload)\n",
    "response.json() #registrando a cidade no nosso app"
   ]
  },
  {
   "cell_type": "code",
   "execution_count": 7,
   "id": "32e76690",
   "metadata": {},
   "outputs": [
    {
     "data": {
      "text/plain": [
       "dict_keys(['id', 'name', 'state', 'country', 'meteogram', 'data'])"
      ]
     },
     "execution_count": 7,
     "metadata": {},
     "output_type": "execute_result"
    }
   ],
   "source": [
    "url='http://apiadvisor.climatempo.com.br/api/v1/forecast/locale/{}/days/15?token={}'.format(city_id,token)\n",
    "\n",
    "response=requests.get(url)\n",
    "data=response.json()\n",
    "\n",
    "data.keys() #pegando a previsão para os próximos 7 dias na nossa cidade"
   ]
  },
  {
   "cell_type": "code",
   "execution_count": 8,
   "id": "646e6e94",
   "metadata": {},
   "outputs": [],
   "source": [
    "city,state,country=data['name'],data['state'],data['country'] #salvando informações da cidade"
   ]
  },
  {
   "cell_type": "code",
   "execution_count": 9,
   "id": "0a25d2c4",
   "metadata": {},
   "outputs": [],
   "source": [
    "week=data['data']\n",
    "current_day=week[0]['date']\n",
    "row=[current_day]\n",
    "\n",
    "for day in week:\n",
    "    row.append(str(day['rain']['probability'])+'%')\n",
    "    \n",
    "row.append('None')"
   ]
  },
  {
   "cell_type": "code",
   "execution_count": 10,
   "id": "9997d618",
   "metadata": {},
   "outputs": [],
   "source": [
    "today=datetime.strptime(current_day,'%Y-%m-%d').date()\n",
    "dt=timedelta(days=1)\n",
    "yesterday=str(today-dt)"
   ]
  },
  {
   "cell_type": "code",
   "execution_count": 11,
   "id": "8668f3c3",
   "metadata": {},
   "outputs": [],
   "source": [
    "df=pd.read_csv('tables/rain_probability_{}.csv'.format(yesterday))\n",
    "\n",
    "df.loc[-1]=row\n",
    "df.sort_values('date',ascending=False,inplace=True)\n",
    "df.reset_index(drop=True,inplace=True)"
   ]
  },
  {
   "cell_type": "code",
   "execution_count": 12,
   "id": "abe39241",
   "metadata": {},
   "outputs": [
    {
     "data": {
      "text/html": [
       "<div>\n",
       "<style scoped>\n",
       "    .dataframe tbody tr th:only-of-type {\n",
       "        vertical-align: middle;\n",
       "    }\n",
       "\n",
       "    .dataframe tbody tr th {\n",
       "        vertical-align: top;\n",
       "    }\n",
       "\n",
       "    .dataframe thead th {\n",
       "        text-align: right;\n",
       "    }\n",
       "</style>\n",
       "<table border=\"1\" class=\"dataframe\">\n",
       "  <thead>\n",
       "    <tr style=\"text-align: right;\">\n",
       "      <th></th>\n",
       "      <th>date</th>\n",
       "      <th>rain_probability_in_0_days</th>\n",
       "      <th>rain_probability_in_1_days</th>\n",
       "      <th>rain_probability_in_2_days</th>\n",
       "      <th>rain_probability_in_3_days</th>\n",
       "      <th>rain_probability_in_4_days</th>\n",
       "      <th>rain_probability_in_5_days</th>\n",
       "      <th>rain_probability_in_6_days</th>\n",
       "      <th>did_it_rain</th>\n",
       "    </tr>\n",
       "  </thead>\n",
       "  <tbody>\n",
       "    <tr>\n",
       "      <th>0</th>\n",
       "      <td>2023-05-22</td>\n",
       "      <td>0%</td>\n",
       "      <td>0%</td>\n",
       "      <td>3%</td>\n",
       "      <td>0%</td>\n",
       "      <td>0%</td>\n",
       "      <td>2%</td>\n",
       "      <td>13%</td>\n",
       "      <td>None</td>\n",
       "    </tr>\n",
       "    <tr>\n",
       "      <th>1</th>\n",
       "      <td>2023-05-21</td>\n",
       "      <td>0%</td>\n",
       "      <td>0%</td>\n",
       "      <td>0%</td>\n",
       "      <td>3%</td>\n",
       "      <td>1%</td>\n",
       "      <td>1%</td>\n",
       "      <td>2%</td>\n",
       "      <td>None</td>\n",
       "    </tr>\n",
       "    <tr>\n",
       "      <th>2</th>\n",
       "      <td>2023-05-20</td>\n",
       "      <td>0%</td>\n",
       "      <td>0%</td>\n",
       "      <td>0%</td>\n",
       "      <td>2%</td>\n",
       "      <td>5%</td>\n",
       "      <td>4%</td>\n",
       "      <td>3%</td>\n",
       "      <td>0</td>\n",
       "    </tr>\n",
       "    <tr>\n",
       "      <th>3</th>\n",
       "      <td>2023-05-19</td>\n",
       "      <td>0%</td>\n",
       "      <td>0%</td>\n",
       "      <td>0%</td>\n",
       "      <td>0%</td>\n",
       "      <td>2%</td>\n",
       "      <td>5%</td>\n",
       "      <td>7%</td>\n",
       "      <td>0</td>\n",
       "    </tr>\n",
       "    <tr>\n",
       "      <th>4</th>\n",
       "      <td>2023-05-18</td>\n",
       "      <td>14%</td>\n",
       "      <td>1%</td>\n",
       "      <td>0%</td>\n",
       "      <td>0%</td>\n",
       "      <td>0%</td>\n",
       "      <td>4%</td>\n",
       "      <td>5%</td>\n",
       "      <td>0</td>\n",
       "    </tr>\n",
       "    <tr>\n",
       "      <th>5</th>\n",
       "      <td>2023-05-17</td>\n",
       "      <td>26%</td>\n",
       "      <td>14%</td>\n",
       "      <td>3%</td>\n",
       "      <td>1%</td>\n",
       "      <td>0%</td>\n",
       "      <td>0%</td>\n",
       "      <td>3%</td>\n",
       "      <td>1</td>\n",
       "    </tr>\n",
       "  </tbody>\n",
       "</table>\n",
       "</div>"
      ],
      "text/plain": [
       "         date rain_probability_in_0_days rain_probability_in_1_days  \\\n",
       "0  2023-05-22                         0%                         0%   \n",
       "1  2023-05-21                         0%                         0%   \n",
       "2  2023-05-20                         0%                         0%   \n",
       "3  2023-05-19                         0%                         0%   \n",
       "4  2023-05-18                        14%                         1%   \n",
       "5  2023-05-17                        26%                        14%   \n",
       "\n",
       "  rain_probability_in_2_days rain_probability_in_3_days  \\\n",
       "0                         3%                         0%   \n",
       "1                         0%                         3%   \n",
       "2                         0%                         2%   \n",
       "3                         0%                         0%   \n",
       "4                         0%                         0%   \n",
       "5                         3%                         1%   \n",
       "\n",
       "  rain_probability_in_4_days rain_probability_in_5_days  \\\n",
       "0                         0%                         2%   \n",
       "1                         1%                         1%   \n",
       "2                         5%                         4%   \n",
       "3                         2%                         5%   \n",
       "4                         0%                         4%   \n",
       "5                         0%                         0%   \n",
       "\n",
       "  rain_probability_in_6_days did_it_rain  \n",
       "0                        13%        None  \n",
       "1                         2%        None  \n",
       "2                         3%           0  \n",
       "3                         7%           0  \n",
       "4                         5%           0  \n",
       "5                         3%           1  "
      ]
     },
     "execution_count": 12,
     "metadata": {},
     "output_type": "execute_result"
    }
   ],
   "source": [
    "df.to_csv('tables/rain_probability_{}.csv'.format(current_day),index=False)\n",
    "df"
   ]
  },
  {
   "cell_type": "code",
   "execution_count": 15,
   "id": "8780e716",
   "metadata": {},
   "outputs": [],
   "source": [
    "#did_it_rain=0"
   ]
  },
  {
   "cell_type": "code",
   "execution_count": 16,
   "id": "4020b4f5",
   "metadata": {},
   "outputs": [
    {
     "data": {
      "text/html": [
       "<div>\n",
       "<style scoped>\n",
       "    .dataframe tbody tr th:only-of-type {\n",
       "        vertical-align: middle;\n",
       "    }\n",
       "\n",
       "    .dataframe tbody tr th {\n",
       "        vertical-align: top;\n",
       "    }\n",
       "\n",
       "    .dataframe thead th {\n",
       "        text-align: right;\n",
       "    }\n",
       "</style>\n",
       "<table border=\"1\" class=\"dataframe\">\n",
       "  <thead>\n",
       "    <tr style=\"text-align: right;\">\n",
       "      <th></th>\n",
       "      <th>date</th>\n",
       "      <th>rain_probability_in_0_days</th>\n",
       "      <th>rain_probability_in_1_days</th>\n",
       "      <th>rain_probability_in_2_days</th>\n",
       "      <th>rain_probability_in_3_days</th>\n",
       "      <th>rain_probability_in_4_days</th>\n",
       "      <th>rain_probability_in_5_days</th>\n",
       "      <th>rain_probability_in_6_days</th>\n",
       "      <th>did_it_rain</th>\n",
       "    </tr>\n",
       "  </thead>\n",
       "  <tbody>\n",
       "    <tr>\n",
       "      <th>0</th>\n",
       "      <td>2023-05-22</td>\n",
       "      <td>0%</td>\n",
       "      <td>0%</td>\n",
       "      <td>3%</td>\n",
       "      <td>0%</td>\n",
       "      <td>0%</td>\n",
       "      <td>2%</td>\n",
       "      <td>13%</td>\n",
       "      <td>None</td>\n",
       "    </tr>\n",
       "    <tr>\n",
       "      <th>1</th>\n",
       "      <td>2023-05-21</td>\n",
       "      <td>0%</td>\n",
       "      <td>0%</td>\n",
       "      <td>0%</td>\n",
       "      <td>3%</td>\n",
       "      <td>1%</td>\n",
       "      <td>1%</td>\n",
       "      <td>2%</td>\n",
       "      <td>0</td>\n",
       "    </tr>\n",
       "    <tr>\n",
       "      <th>2</th>\n",
       "      <td>2023-05-20</td>\n",
       "      <td>0%</td>\n",
       "      <td>0%</td>\n",
       "      <td>0%</td>\n",
       "      <td>2%</td>\n",
       "      <td>5%</td>\n",
       "      <td>4%</td>\n",
       "      <td>3%</td>\n",
       "      <td>0</td>\n",
       "    </tr>\n",
       "    <tr>\n",
       "      <th>3</th>\n",
       "      <td>2023-05-19</td>\n",
       "      <td>0%</td>\n",
       "      <td>0%</td>\n",
       "      <td>0%</td>\n",
       "      <td>0%</td>\n",
       "      <td>2%</td>\n",
       "      <td>5%</td>\n",
       "      <td>7%</td>\n",
       "      <td>0</td>\n",
       "    </tr>\n",
       "    <tr>\n",
       "      <th>4</th>\n",
       "      <td>2023-05-18</td>\n",
       "      <td>14%</td>\n",
       "      <td>1%</td>\n",
       "      <td>0%</td>\n",
       "      <td>0%</td>\n",
       "      <td>0%</td>\n",
       "      <td>4%</td>\n",
       "      <td>5%</td>\n",
       "      <td>0</td>\n",
       "    </tr>\n",
       "    <tr>\n",
       "      <th>5</th>\n",
       "      <td>2023-05-17</td>\n",
       "      <td>26%</td>\n",
       "      <td>14%</td>\n",
       "      <td>3%</td>\n",
       "      <td>1%</td>\n",
       "      <td>0%</td>\n",
       "      <td>0%</td>\n",
       "      <td>3%</td>\n",
       "      <td>1</td>\n",
       "    </tr>\n",
       "  </tbody>\n",
       "</table>\n",
       "</div>"
      ],
      "text/plain": [
       "         date rain_probability_in_0_days rain_probability_in_1_days  \\\n",
       "0  2023-05-22                         0%                         0%   \n",
       "1  2023-05-21                         0%                         0%   \n",
       "2  2023-05-20                         0%                         0%   \n",
       "3  2023-05-19                         0%                         0%   \n",
       "4  2023-05-18                        14%                         1%   \n",
       "5  2023-05-17                        26%                        14%   \n",
       "\n",
       "  rain_probability_in_2_days rain_probability_in_3_days  \\\n",
       "0                         3%                         0%   \n",
       "1                         0%                         3%   \n",
       "2                         0%                         2%   \n",
       "3                         0%                         0%   \n",
       "4                         0%                         0%   \n",
       "5                         3%                         1%   \n",
       "\n",
       "  rain_probability_in_4_days rain_probability_in_5_days  \\\n",
       "0                         0%                         2%   \n",
       "1                         1%                         1%   \n",
       "2                         5%                         4%   \n",
       "3                         2%                         5%   \n",
       "4                         0%                         4%   \n",
       "5                         0%                         0%   \n",
       "\n",
       "  rain_probability_in_6_days did_it_rain  \n",
       "0                        13%        None  \n",
       "1                         2%           0  \n",
       "2                         3%           0  \n",
       "3                         7%           0  \n",
       "4                         5%           0  \n",
       "5                         3%           1  "
      ]
     },
     "execution_count": 16,
     "metadata": {},
     "output_type": "execute_result"
    }
   ],
   "source": [
    "df.iloc[1][-1]=did_it_rain\n",
    "df.to_csv('tables/rain_probability_{}.csv'.format(current_day),index=False)\n",
    "df"
   ]
  },
  {
   "cell_type": "code",
   "execution_count": null,
   "id": "71955482",
   "metadata": {},
   "outputs": [],
   "source": []
  }
 ],
 "metadata": {
  "kernelspec": {
   "display_name": "Python 3 (ipykernel)",
   "language": "python",
   "name": "python3"
  },
  "language_info": {
   "codemirror_mode": {
    "name": "ipython",
    "version": 3
   },
   "file_extension": ".py",
   "mimetype": "text/x-python",
   "name": "python",
   "nbconvert_exporter": "python",
   "pygments_lexer": "ipython3",
   "version": "3.9.13"
  }
 },
 "nbformat": 4,
 "nbformat_minor": 5
}
